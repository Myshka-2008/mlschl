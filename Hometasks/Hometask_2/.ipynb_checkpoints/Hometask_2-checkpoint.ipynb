{
 "cells": [
  {
   "cell_type": "markdown",
   "metadata": {},
   "source": [
    "# Школа машинного обучения\n",
    "\n",
    "### Физтех-Школа Прикладной математики и информатики МФТИ \n",
    "### Лаборатория нейронных сетей и глубокого обучения (DeepHackLab)  \n",
    "Дедлайн: 4 апреля 23: 59 (MSK)\n"
   ]
  },
  {
   "cell_type": "markdown",
   "metadata": {},
   "source": [
    "## Домашнее задание 2\n",
    "### Метод k-ближайших соседей \n",
    "---\n"
   ]
  },
  {
   "cell_type": "code",
   "execution_count": 8,
   "metadata": {},
   "outputs": [],
   "source": [
    "from sklearn.datasets import load_iris\n",
    "from sklearn.neighbors import KNeighborsClassifier\n",
    "from sklearn.model_selection import GridSearchCV\n",
    "from sklearn.base import BaseEstimator\n",
    "import matplotlib.pyplot as plt\n",
    "import collections\n",
    "import numpy as np\n",
    "\n",
    "import scipy.stats as sps\n",
    "from sklearn.model_selection import cross_val_score\n",
    "from sklearn.model_selection import StratifiedKFold\n",
    "from sklearn.model_selection import train_test_split\n",
    "from matplotlib.colors import ListedColormap\n",
    "from sklearn.datasets import make_classification\n",
    "from sklearn.metrics import accuracy_score\n",
    "from sklearn.datasets import fetch_20newsgroups\n",
    "from sklearn.feature_extraction.text import CountVectorizer"
   ]
  },
  {
   "cell_type": "markdown",
   "metadata": {},
   "source": [
    "**Вопрос:** Почему важно, чтобы в тестовой и обучающей выборке пропорции классов были максимально похожи? В качестве примера рассмотрите Ирисы Фишера: в нём три класса, каждый занимает по трети датасета. Далее мы разделяем выборку в пропорциях 2:1, например, при кросс-валидации с тремя фолдами. Что может пойти не так?\n",
    "\n",
    "В этом ноутбуке за равенство классов отвечает StratifiedKFold (см. пример ниже, подробнее: http://scikit-learn.org/stable/modules/generated/sklearn.model_selection.StratifiedKFold.html)"
   ]
  },
  {
   "cell_type": "markdown",
   "metadata": {},
   "source": [
    "*тут ваш ответ*      Если в случае трех равных классов в выборке разделить эту выборку в пропорции 2:1 (тестовая и обучающая), то есть вероятность, что в тестовую попадут все/почти все элементы двух классов, а в обучающую - все/почти все элементы третьего класса. В таком случае обучение на двух \"чистых\" тестовых классах не приведёт к распознаванию элементов из третьего класса. \n"
   ]
  },
  {
   "cell_type": "markdown",
   "metadata": {},
   "source": [
    "**Задание 1** Примените kNN к классическому <a href=\"https://ru.wikipedia.org/wiki/%D0%98%D1%80%D0%B8%D1%81%D1%8B_%D0%A4%D0%B8%D1%88%D0%B5%D1%80%D0%B0\">набору данных \"Ирисы Фишера\" </a>. Подберите оптимальное число k c помощью поиска по сетке и кросс-валидации. Постройте график зависимости качества от k. Используйте метрику accuracy."
   ]
  },
  {
   "cell_type": "code",
   "execution_count": 9,
   "metadata": {},
   "outputs": [],
   "source": [
    "data = load_iris()\n",
    "\n",
    "X = data.data\n",
    "y = data.target"
   ]
  },
  {
   "cell_type": "code",
   "execution_count": 90,
   "metadata": {},
   "outputs": [
    {
     "data": {
      "text/plain": [
       "array([[5.1, 3.5, 1.4, 0.2],\n",
       "       [4.9, 3. , 1.4, 0.2],\n",
       "       [4.7, 3.2, 1.3, 0.2],\n",
       "       [4.6, 3.1, 1.5, 0.2],\n",
       "       [5. , 3.6, 1.4, 0.2],\n",
       "       [5.4, 3.9, 1.7, 0.4],\n",
       "       [4.6, 3.4, 1.4, 0.3],\n",
       "       [5. , 3.4, 1.5, 0.2],\n",
       "       [4.4, 2.9, 1.4, 0.2],\n",
       "       [4.9, 3.1, 1.5, 0.1],\n",
       "       [5.4, 3.7, 1.5, 0.2],\n",
       "       [4.8, 3.4, 1.6, 0.2],\n",
       "       [4.8, 3. , 1.4, 0.1],\n",
       "       [4.3, 3. , 1.1, 0.1],\n",
       "       [5.8, 4. , 1.2, 0.2]])"
      ]
     },
     "execution_count": 90,
     "metadata": {},
     "output_type": "execute_result"
    }
   ],
   "source": [
    "X[:5]"
   ]
  },
  {
   "cell_type": "code",
   "execution_count": 91,
   "metadata": {},
   "outputs": [
    {
     "data": {
      "text/plain": [
       "GridSearchCV(cv=5, error_score='raise',\n",
       "       estimator=KNeighborsClassifier(algorithm='auto', leaf_size=30, metric='minkowski',\n",
       "           metric_params=None, n_jobs=1, n_neighbors=5, p=2,\n",
       "           weights='uniform'),\n",
       "       fit_params=None, iid=True, n_jobs=5,\n",
       "       param_grid={'n_neighbors': array([  1,  12,  23,  34,  45,  56,  67,  78,  89, 100])},\n",
       "       pre_dispatch='2*n_jobs', refit=True, return_train_score='warn',\n",
       "       scoring=None, verbose=0)"
      ]
     },
     "execution_count": 91,
     "metadata": {},
     "output_type": "execute_result"
    }
   ],
   "source": [
    "#  Вы уже умеете пользоваться GridSearchCV (см семинар по knn)\n",
    "\n",
    "# ....\n",
    "knn = KNeighborsClassifier()\n",
    "knn_grid = {'n_neighbors': np.array(np.linspace(1, 150, 10), dtype='int')}\n",
    "\n",
    "gscv = GridSearchCV(knn, knn_grid, cv=StratifiedKFold(shuffle = False, n_splits=5), scoring=\"accuracy\")\n",
    "gs.fit(X, y)\n",
    "# ...."
   ]
  },
  {
   "cell_type": "code",
   "execution_count": 92,
   "metadata": {
    "scrolled": false
   },
   "outputs": [
    {
     "data": {
      "image/png": "[encoded data removed]",
      "text/plain": [
       "<matplotlib.figure.Figure at 0x37db450>"
      ]
     },
     "metadata": {},
     "output_type": "display_data"
    }
   ],
   "source": [
    "grid_plot(knn_grid['n_neighbors'], gs.cv_results_['mean_test_score'], 'n_neighbors', 'KNeighborsClassifier')"
   ]
  },
  {
   "cell_type": "markdown",
   "metadata": {},
   "source": [
    "Если вы смотрели в данные, то вы видели, что признаки примерно одного порядка, т.к. это длины и ширины в сантиметрах. Предположим теперь, что один из признаков измерялся в десятых долях миллиметра. Точно так же подберите оптимальное k для новых данных, сравните качество и постройте график. Что нужно делать, чтобы такая проблема не возникала?"
   ]
  },
  {
   "cell_type": "code",
   "execution_count": 102,
   "metadata": {},
   "outputs": [
    {
     "data": {
      "text/plain": [
       "array([[5.1e+02, 3.5e+00, 1.4e+00, 2.0e-01],\n",
       "       [4.9e+02, 3.0e+00, 1.4e+00, 2.0e-01],\n",
       "       [4.7e+02, 3.2e+00, 1.3e+00, 2.0e-01],\n",
       "       [4.6e+02, 3.1e+00, 1.5e+00, 2.0e-01],\n",
       "       [5.0e+02, 3.6e+00, 1.4e+00, 2.0e-01]])"
      ]
     },
     "execution_count": 102,
     "metadata": {},
     "output_type": "execute_result"
    }
   ],
   "source": [
    "X_new = X * np.array((100, 1, 1, 1))\n",
    "X_new[:5]"
   ]
  },
  {
   "cell_type": "code",
   "execution_count": 103,
   "metadata": {},
   "outputs": [
    {
     "data": {
      "text/plain": [
       "GridSearchCV(cv=5, error_score='raise',\n",
       "       estimator=KNeighborsClassifier(algorithm='auto', leaf_size=30, metric='minkowski',\n",
       "           metric_params=None, n_jobs=1, n_neighbors=5, p=2,\n",
       "           weights='uniform'),\n",
       "       fit_params=None, iid=True, n_jobs=5,\n",
       "       param_grid={'n_neighbors': array([  1,  12,  23,  34,  45,  56,  67,  78,  89, 100])},\n",
       "       pre_dispatch='2*n_jobs', refit=True, return_train_score='warn',\n",
       "       scoring=None, verbose=0)"
      ]
     },
     "execution_count": 103,
     "metadata": {},
     "output_type": "execute_result"
    }
   ],
   "source": [
    "# Запутите код, который вы уже написали выше на данных (X_new, y)\n",
    "\n",
    "knn = KNeighborsClassifier()\n",
    "knn_grid = {'n_neighbors': np.array(np.linspace(1, 150, 10), dtype='int')}\n",
    "\n",
    "gscv = GridSearchCV(knn, knn_grid, cv=StratifiedKFold(shuffle = False, n_splits=5), scoring=\"accuracy\")\n",
    "gs.fit(X_new, y)"
   ]
  },
  {
   "cell_type": "code",
   "execution_count": 104,
   "metadata": {},
   "outputs": [
    {
     "data": {
      "image/png": "[encoded data removed]",
      "text/plain": [
       "<matplotlib.figure.Figure at 0x36ac930>"
      ]
     },
     "metadata": {},
     "output_type": "display_data"
    }
   ],
   "source": [
    "grid_plot(knn_grid['n_neighbors'], gs.cv_results_['mean_test_score'], 'n_neighbors', 'KNeighborsClassifier')"
   ]
  },
  {
   "cell_type": "markdown",
   "metadata": {},
   "source": [
    "в первом случае из графика видно, что наилучшее качество(приближенное к 1) получаем при k=18\n",
    "во втором случае качество падает (максимальное значение 0,8 - и оно формально достигается при k=0, что уже сомнительно),а при k=18 видим провал функции, качество падает, и оптимальное k в интервале примерно от 25 до 65.\n",
    "Делаем предположение - что-то пошло не так...\n",
    "Попробуем сделать остальные признаки того же порядка. проверяем.\n"
   ]
  },
  {
   "cell_type": "code",
   "execution_count": 105,
   "metadata": {},
   "outputs": [
    {
     "data": {
      "text/plain": [
       "array([[510., 350., 140.,  20.],\n",
       "       [490., 300., 140.,  20.],\n",
       "       [470., 320., 130.,  20.],\n",
       "       [460., 310., 150.,  20.],\n",
       "       [500., 360., 140.,  20.]])"
      ]
     },
     "execution_count": 105,
     "metadata": {},
     "output_type": "execute_result"
    }
   ],
   "source": [
    "X_new2 = X * np.array((100, 100, 100, 100))\n",
    "X_new2[:5]"
   ]
  },
  {
   "cell_type": "code",
   "execution_count": 108,
   "metadata": {},
   "outputs": [
    {
     "data": {
      "text/plain": [
       "GridSearchCV(cv=5, error_score='raise',\n",
       "       estimator=KNeighborsClassifier(algorithm='auto', leaf_size=30, metric='minkowski',\n",
       "           metric_params=None, n_jobs=1, n_neighbors=5, p=2,\n",
       "           weights='uniform'),\n",
       "       fit_params=None, iid=True, n_jobs=5,\n",
       "       param_grid={'n_neighbors': array([  1,  12,  23,  34,  45,  56,  67,  78,  89, 100])},\n",
       "       pre_dispatch='2*n_jobs', refit=True, return_train_score='warn',\n",
       "       scoring=None, verbose=0)"
      ]
     },
     "execution_count": 108,
     "metadata": {},
     "output_type": "execute_result"
    }
   ],
   "source": [
    "# Запутите код, который вы уже написали выше на данных (X_new, y)\n",
    "\n",
    "knn = KNeighborsClassifier()\n",
    "knn_grid = {'n_neighbors': np.array(np.linspace(1, 150, 10), dtype='int')}\n",
    "\n",
    "gscv = GridSearchCV(knn, knn_grid, cv=StratifiedKFold(shuffle = False, n_splits=5), scoring=\"accuracy\")\n",
    "gs.fit(X_new2, y)"
   ]
  },
  {
   "cell_type": "code",
   "execution_count": 109,
   "metadata": {
    "scrolled": true
   },
   "outputs": [
    {
     "data": {
      "image/png": "[encoded data removed]",
      "text/plain": [
       "<matplotlib.figure.Figure at 0x37d4250>"
      ]
     },
     "metadata": {},
     "output_type": "display_data"
    }
   ],
   "source": [
    "grid_plot(knn_grid['n_neighbors'], gs.cv_results_['mean_test_score'], 'n_neighbors', 'KNeighborsClassifier')"
   ]
  },
  {
   "cell_type": "markdown",
   "metadata": {},
   "source": [
    "Вывод - все признаки желательно измерять в величинах одного порядка."
   ]
  },
  {
   "cell_type": "markdown",
   "metadata": {},
   "source": [
    "**Задание 2:** Реализуйте kNN. Cравните скорости работы реализации с distance_slow,  distance_fast c реализацией из sklearn. Проверьте, что качество такое же. \n",
    "Считать, что интерфейс fit и predict такой же, как у KNeighborsClassifier из sklearn"
   ]
  },
  {
   "cell_type": "code",
   "execution_count": 46,
   "metadata": {},
   "outputs": [],
   "source": [
    "def distance_slow(v, a_list):\n",
    "    \"\"\"\n",
    "    Функция, по вектору v и спиcку векторов a\n",
    "    находящая попарные расстояния v <-> a[i]\n",
    "    и возвращающая их как numpy.ndarray той же длины,\n",
    "    что и список a\n",
    "    (Работает медленно)\n",
    "    \"\"\"\n",
    "    result = []\n",
    "    for i in range(a_list.shape[0]):\n",
    "        length = 0.\n",
    "        for j in range(a_list.shape[1]):\n",
    "            length += (v[j] - a_list[i, j]) ** 2\n",
    "        result.append(length)\n",
    "    return np.array(result)"
   ]
  },
  {
   "cell_type": "code",
   "execution_count": null,
   "metadata": {},
   "outputs": [],
   "source": [
    "def distance_fast(v, a_list):\n",
    "    \"\"\"\n",
    "    Аналог distance_slow. Использует numpy, работает быстро.\n",
    "    \"\"\"\n",
    "    return < .. Достаточно одной строчки. Считатайте, что v, a_list - numpy.ndarray подходящего размера .. >"
   ]
  },
  {
   "cell_type": "code",
   "execution_count": 52,
   "metadata": {},
   "outputs": [],
   "source": [
    "class kNNClassifier:\n",
    "    def __init__(self, k=3, distance = distance_slow):\n",
    "        \"\"\"\n",
    "        Parameters\n",
    "        ----------\n",
    "        k: int\n",
    "            Число соседей\n",
    "\n",
    "        distance: *alias\n",
    "            функция, по вектору v и спиcку векторов a\n",
    "            находящая попарные расстояния v <-> a[i]\n",
    "            и возвращающая их как numpy.ndarray той же длины,\n",
    "            что и список a\n",
    "        \"\"\"\n",
    "        self._k = k\n",
    "        self._distance = distance\n",
    "    \n",
    "    def fit(self, X_train, y_train):\n",
    "        self._X = np.copy(X_train)  # Копируем данных, чтобы они не перезаписывались извне\n",
    "        self._y = np.copy(y_train)\n",
    "        return self\n",
    "        \n",
    "    def predict(self, X_test):\n",
    "        X_test = np.array(X_test)\n",
    "        predictions = []\n",
    "        objects_count = < .. число объектов, которые нужно классифицировать .. >\n",
    "        for i in range(objects_count):\n",
    "            pairwise_distances = < .. вызовите self._distance .. >\n",
    "            \n",
    "            k_nearest = self._y[np.argsort(pairwise_distances)[:self._k]]  # нашли k ближайших.\n",
    "            \n",
    "            unique_values, counts = < .. используйте numpy.unique с return_counts=True, \n",
    "                                        чтобы найти какие классы есть среди k соседей \n",
    "                                        и сколько раз каждый из них встречается .. >\n",
    "                    \n",
    "            # Если вы что-то не понимаете - у numpy замечательная документация       \n",
    "                \n",
    "            prediction = unique_values[np.argmax(counts)]\n",
    "            # Предсказываем класс, представителей которого больше всего\n",
    "            \n",
    "            predictions.append(prediction) \n",
    "            \n",
    "        return predictions\n",
    "    \n",
    "    def get_params(self, deep=False):\n",
    "        \"\"\"\n",
    "        Функция, необходимая для работы GridSearchCV\n",
    "        Возвращает параметры данного экземпляра класса\n",
    "        \"\"\"\n",
    "        return {\n",
    "            \"k\": self._k,\n",
    "            \"distance\": self._distance\n",
    "        }\n",
    "    \n",
    "    def set_params(self, **params):\n",
    "        \"\"\"\n",
    "        Функция, необходимая для работы GridSearchCV\n",
    "        Устанавливает параметры из params \n",
    "        (В данном случае пересоздаёт экземпляр класса \n",
    "        и возвращает его)\n",
    "        \"\"\"\n",
    "        self.__init__(**params)\n",
    "        return self"
   ]
  },
  {
   "cell_type": "code",
   "execution_count": null,
   "metadata": {},
   "outputs": [],
   "source": [
    "clf = kNNClassifier(k = 3)\n",
    "cross_val_score(clf, X, y, cv=StratifiedKFold(shuffle = False), scoring=\"accuracy\", )"
   ]
  },
  {
   "cell_type": "code",
   "execution_count": null,
   "metadata": {},
   "outputs": [],
   "source": [
    "%%time\n",
    "clf = kNNClassifier()\n",
    "params = {\n",
    "    \"k\":[1, 3, 5, 7, 9, 11, 13, 15, 17],\n",
    "    \"distance\":[distance_slow]\n",
    "}\n",
    "gscv = GridSearchCV(clf, params, cv=StratifiedKFold(shuffle = False, n_splits=5), scoring=\"accuracy\", )\n",
    "gscv.fit(X, y)\n",
    "print(\"Best params: {}. Best score: {}\".format(gscv.best_params_, gscv.best_score_))"
   ]
  },
  {
   "cell_type": "code",
   "execution_count": null,
   "metadata": {
    "scrolled": true
   },
   "outputs": [],
   "source": [
    "%%time\n",
    "clf = kNNClassifier()\n",
    "params = {\n",
    "    \"k\":[1, 3, 5, 7, 9, 11, 13, 15, 17],\n",
    "    \"distance\":[distance_fast]\n",
    "}\n",
    "gscv = GridSearchCV(clf, params, cv=StratifiedKFold(shuffle = False, n_splits=5), scoring=\"accuracy\", )\n",
    "gscv.fit(X, y)\n",
    "print(\"Best params: {}. Best score: {}\".format(gscv.best_params_, gscv.best_score_))"
   ]
  },
  {
   "cell_type": "code",
   "execution_count": null,
   "metadata": {},
   "outputs": [],
   "source": [
    "%%time\n",
    "clf = KNeighborsClassifier(n_neighbors=3)\n",
    "params = {\n",
    "    \"n_neighbors\":[1, 3, 5, 7, 9, 11, 13, 15, 17],\n",
    "}\n",
    "gscv = GridSearchCV(clf, params, cv=StratifiedKFold(shuffle = False, n_splits=5), scoring=\"accuracy\", )\n",
    "gscv.fit(X, y)"
   ]
  },
  {
   "cell_type": "markdown",
   "metadata": {},
   "source": [
    "**Комментарий:** Интересующиеся могут изучить <a href=\"https://habrahabr.ru/post/312882/\">kd-tree</a>, позволяющее рассматривать меньшее число расстояний. Так же эта структура используется для отрисовки компьютерной графики."
   ]
  },
  {
   "cell_type": "markdown",
   "metadata": {},
   "source": [
    "**Задача 3:** Пусть в данных предыдущей задачи мы получили измерения только двух признаков. Тогда признаки одного обьекта можно представить как точку на плоскости, которой в соответствие поставлен некоторый класс (можно визуализировать это как цвет). Постройте графики, изображающие принадлежность всех точек плоскости к классам для различных k."
   ]
  },
  {
   "cell_type": "code",
   "execution_count": 57,
   "metadata": {},
   "outputs": [],
   "source": [
    "data = load_iris()\n",
    "X = data.data[:, [False, True, True, False]]\n",
    "y = data.target\n",
    "\n",
    "X_train, X_test, y_train, y_test = train_test_split(X, y, test_size=0.3, random_state=17)"
   ]
  },
  {
   "cell_type": "code",
   "execution_count": 62,
   "metadata": {},
   "outputs": [
    {
     "data": {
      "image/png": "[encoded data removed]",
      "text/plain": [
       "<matplotlib.figure.Figure at 0x7fb884672748>"
      ]
     },
     "metadata": {},
     "output_type": "display_data"
    }
   ],
   "source": [
    "cmap = ListedColormap(['#FFAAAA', '#AAFFAA', '#AAAAFF'])\n",
    "plt.figure(figsize=(14, 14))\n",
    "for i, k in enumerate([1, 3, 5, 7]):\n",
    "    plt.subplot(221 + i)\n",
    "\n",
    "    h = 400\n",
    "    xx, yy = np.meshgrid(\n",
    "        np.linspace(X[:, 0].min(), X[:, 0].max(), h),\n",
    "        np.linspace(X[:, 1].min(), X[:, 1].max(), h)\n",
    "    )\n",
    "    \n",
    "    X_grid = np.c_[xx.ravel(), yy.ravel()]\n",
    "        \n",
    "    # Обучите (k)NN на данных X_train, y_train\n",
    "    Z = < .. предсказание на X_grid .. >\n",
    "    acc = < .. вычислите качество на y_test, X_test. Используйте функцию accuracy_score .. >\n",
    "    # http://scikit-learn.org/stable/modules/generated/sklearn.metrics.accuracy_score.html\n",
    "    \n",
    "    plt.title(\"k = {}, accuracy = {}\".format(k, round(acc, 3)))\n",
    "    zz = np.array(Z).reshape(xx.shape)\n",
    "   \n",
    "    # Вызовите plt.pcolormesh для точек xx, yy, zz и цветовой схемы cmap\n",
    "    # https://matplotlib.org/api/_as_gen/matplotlib.axes.Axes.pcolormesh.html\n",
    "    \n",
    "    plt.xlabel(data[\"feature_names\"][1])\n",
    "    plt.ylabel(data[\"feature_names\"][2])\n",
    "    for i in range(3):\n",
    "        plt.scatter(X[y == i, 0], X[y == i, 1], color=[\"red\", \"green\", \"blue\"][i], label=data[\"target_names\"][i])\n",
    "    plt.legend()\n",
    "\n",
    "plt.show()"
   ]
  },
  {
   "cell_type": "markdown",
   "metadata": {},
   "source": [
    "Как меняется форма разделяющей кривой при увеличении k и как это сказывается на тестовом качестве? Не забывайте, что иногда в данных встречаются недостоверные измерения, вызванные множеством факторов, например, проблемами при переводе данных из одного формата в другой, в том числе при занесении непосредственных измерений в компьютер."
   ]
  },
  {
   "cell_type": "markdown",
   "metadata": {},
   "source": [
    "**Задание 4*:** Предлагается датасет, состоящий из писем на две тематики. Задача - научиться классифицировать письма по темам."
   ]
  },
  {
   "cell_type": "code",
   "execution_count": 141,
   "metadata": {},
   "outputs": [],
   "source": [
    "categories = [\n",
    "    'rec.autos',  # тем больше, чем две. Попробуйте другие.)\n",
    "    'sci.space',\n",
    "]\n",
    "\n",
    "dataset = fetch_20newsgroups(subset='all', categories=categories,\n",
    "                             shuffle=True, random_state=42)\n",
    "\n",
    "X = dataset.data\n",
    "y = dataset.target"
   ]
  },
  {
   "cell_type": "code",
   "execution_count": 142,
   "metadata": {},
   "outputs": [
    {
     "data": {
      "text/plain": [
       "(1977, 1977, array([1, 0, 0, ..., 0, 1, 0]))"
      ]
     },
     "execution_count": 142,
     "metadata": {},
     "output_type": "execute_result"
    }
   ],
   "source": [
    "len(X), len(y), y"
   ]
  },
  {
   "cell_type": "markdown",
   "metadata": {},
   "source": [
    "Рассмотрим два письма из выборки"
   ]
  },
  {
   "cell_type": "code",
   "execution_count": 143,
   "metadata": {
    "scrolled": false
   },
   "outputs": [
    {
     "name": "stdout",
     "output_type": "stream",
     "text": [
      "From: prb@access.digex.net (Pat)\n",
      "Subject: Re: HST Servicing Mission Scheduled for 11 Days\n",
      "Organization: Express Access Online Communications USA\n",
      "Lines: 14\n",
      "NNTP-Posting-Host: access.digex.net\n",
      "\n",
      "In article <C6A2At.E9z@zoo.toronto.edu> henry@zoo.toronto.edu (Henry Spencer) writes:\n",
      ">\n",
      ">No, the thing is designed to be retrievable, in a pinch.  Indeed, this\n",
      ">dictated a rather odd design for the solar arrays, since they had to be\n",
      ">retractable as well as extendable, and may thus have indirectly contributed\n",
      ">to the array-flapping problems.\n",
      "\n",
      "\n",
      "Why not design the solar arrays to be detachable.  if the shuttle is going\n",
      "to retunr the HST,  what bother are some arrays.  just fit them with a quick release.\n",
      "\n",
      "one  space walk,  or use the second canadarm to remove the arrays.\n",
      "\n",
      "pat\n",
      "\n"
     ]
    }
   ],
   "source": [
    "print(X[-2])  # Класс 1"
   ]
  },
  {
   "cell_type": "code",
   "execution_count": 144,
   "metadata": {},
   "outputs": [
    {
     "name": "stdout",
     "output_type": "stream",
     "text": [
      "From: aas7@po.CWRU.Edu (Andrew A. Spencer)\n",
      "Subject: Re: MR2 - noisy engine.\n",
      "Organization: Case Western Reserve University, Cleveland, OH (USA)\n",
      "Lines: 33\n",
      "Reply-To: aas7@po.CWRU.Edu (Andrew A. Spencer)\n",
      "NNTP-Posting-Host: slc5.ins.cwru.edu\n",
      "\n",
      "\n",
      "In a previous article, eliot@lanmola.engr.washington.edu (eliot) says:\n",
      "\n",
      ">In article <1r1vofINN871@usenet.pa.dec.com> tomacj@opco.enet.dec.com (THUNDERBIRDS ARE GO !!!) writes:\n",
      ">>\tAre there any MR2 owners or motor-head gurus out there, that know why\n",
      ">>my MR2's engine sounds noisy? The MR2's engine is noisy at the best of times, \n",
      ">>but not even a nice nose - it's one of those very ugly noises. \n",
      ">\n",
      ">assuming yours is a non turbo MR2, the gruffness is characteristic of\n",
      ">a large inline 4 that doesn't have balance shafts.  i guess toyota\n",
      ">didn't care about \"little\" details like that when they can brag about\n",
      ">the mid engine configuration and the flashy styling.\n",
      ">\n",
      ">myself, i automatically cross out any car from consideration (or\n",
      ">recommendation) which has an inline 4 larger than 2 liters and no\n",
      ">balance shafts..  it is a good rule of thumb to keep in mind if you\n",
      ">ever want a halfway decent engine.  \n",
      ">\n",
      ">if the noise really bugs you, there is nothing else that you can do\n",
      ">except to sell it and get a V6.\n",
      ">\n",
      ">\n",
      ">eliot\n",
      "\n",
      "nice theory.  too bad the MR2's never came with a four cylinder over 2.0\n",
      "liters.  More like 1.6.  Or did they? were the nonturbo MR2II's  2.2 or\n",
      "some such?\n",
      "\n",
      "I also understand that anyone using balancing shafts on four cylinders, must\n",
      "pay SAAB a royalty for using their patented design..like Porsche's 3.0 I4...\n",
      "\n",
      "c ya\n",
      "DREW\n",
      "\n"
     ]
    }
   ],
   "source": [
    "print(X[2])  # Класс 0"
   ]
  },
  {
   "cell_type": "markdown",
   "metadata": {},
   "source": [
    "В целом, после прочтения понятно, что первое письмо про космос а второе - про машины. Для того, чтобы классифицировать тексты, нужно перевести их в удобный для алгоритма вид, т.е. сделать из письма вектор. \n",
    "Прделагается делать это так: составить список всех используемых слов. Зафиксировать число N самых популярных слов, которые мы будет рассматривать. Каждому письму сопоставлять вектор длины N следующего вида: в a[i] записано число вхождений i-го по популярности слова. Данную задачу решает CountVectoizer: используя его преобразуйте тексты в векторы и подсчитайте качество (accuracy) на классификации."
   ]
  },
  {
   "cell_type": "code",
   "execution_count": 117,
   "metadata": {},
   "outputs": [],
   "source": [
    "vect = CountVectorizer(max_features=50)\n",
    "vect.fit(X)\n",
    "Xt = vect.transform(X)"
   ]
  },
  {
   "cell_type": "code",
   "execution_count": null,
   "metadata": {},
   "outputs": [],
   "source": [
    "# Проверьте качество kNN на данных Xt, y.  Метрика - accuracy"
   ]
  },
  {
   "cell_type": "markdown",
   "metadata": {},
   "source": [
    "Очевидна проблема: самые часто встречающиеся слова встречаются одинаково часто во всех текстах: это a, the, и прочие.\n",
    "Для этой проблемы также существует стандартное решение: Проверьте качество теперь:"
   ]
  },
  {
   "cell_type": "code",
   "execution_count": null,
   "metadata": {},
   "outputs": [],
   "source": [
    "# Создайте экземпляр CountVectorizer с параметрами max_features=50, stop_words=\"english\"\n",
    "# Как в примере выше, преобразуйте X в Xt"
   ]
  },
  {
   "cell_type": "code",
   "execution_count": null,
   "metadata": {},
   "outputs": [],
   "source": [
    "# Проверьте качество kNN на данных Xt, y.  Метрика - accuracy"
   ]
  },
  {
   "cell_type": "markdown",
   "metadata": {},
   "source": [
    "Нетрудно догадаться, какие слова будут самыми популярными:"
   ]
  },
  {
   "cell_type": "code",
   "execution_count": 124,
   "metadata": {},
   "outputs": [
    {
     "data": {
      "text/plain": [
       "array([[0, 0, 0, 0, 3, 0, 0, 0, 0, 0, 0, 0, 0, 0, 0, 0, 0, 0, 0, 0, 0, 0,\n",
       "        0, 0, 0, 0, 0, 0, 0, 0, 0, 0, 0, 0, 0, 0, 2, 0, 0, 0, 0, 0, 0, 0,\n",
       "        0, 0, 0, 0, 0, 0]])"
      ]
     },
     "execution_count": 124,
     "metadata": {},
     "output_type": "execute_result"
    }
   ],
   "source": [
    "vect.transform([\"cake space space car car car\"]).toarray()"
   ]
  },
  {
   "cell_type": "markdown",
   "metadata": {},
   "source": [
    "Качество метрических алгоритмов очень сильно зависит от метрики (функции расстояния). Сравните качество метрик \"minkowski\" и \"cosine\" - последняя считает величину, численно равную единице минут косинус угла между векторами, что более уместно для текстов, что обычная евклидова метрика (metric=\"minkowski\", p=2). Найдите параметры, на которых достигается лучшее качество."
   ]
  },
  {
   "cell_type": "code",
   "execution_count": null,
   "metadata": {},
   "outputs": [],
   "source": [
    "params = {\n",
    "    \"n_neighbors\": range(1, 15, 2), \n",
    "    \"metric\": [\"minkowski\", \"cosine\"]\n",
    "}\n",
    "\n",
    "# Вы знаете, что делать.)"
   ]
  },
  {
   "cell_type": "code",
   "execution_count": null,
   "metadata": {},
   "outputs": [],
   "source": []
  },
  {
   "cell_type": "markdown",
   "metadata": {},
   "source": [
    "__________________\n",
    "**Замечание:**\n",
    "Известна проблема несовместимости версий sklearn: метрика \"cosine\" не доступна в старых версиях sklearn.\n",
    "\n",
    "Учитывая, что самый важный навык в IT-профессиях это умение пользоваться поисковиком (и читать технические тексты, например, документации), предлагаются следующие варианты:\n",
    "\n",
    "- использовать sklearn версии 0.19.1\n",
    "    (вы быстро разберётесь, как узнать текущую версию и как её обновить, это полезно знать)\n",
    "    \n",
    "    \n",
    "- написать метрику cosine_distances для своего класса и использовать её.\n",
    "\n",
    "    В sklearn реализована похожая функция, можете использовать её, но никто не запрещает написать свою реализацию.\n",
    "    Обратите внимание, что CountVectorizer возвращает объект класса scipy.sparse.csr.csr_matrix, к чему вы, наверное,\n",
    "    не были готовы при реализации класса, так что нужно преобразовать Xt к numpy.ndarray (документация в помощь)\n",
    "    \n",
    "    Обьект класса scipy.sparse.csr.csr_matrix используется так как матрицы, возвращаемые CountVectorizer, обычно почти\n",
    "    полностью состоят из нулей и использование разреженных матриц сильно экономит оперативную память. Такие матрицы имеют\n",
    "    схожие с numpy.ndarray интерфейсы, но совместимость не полная. \n",
    "    \n",
    "    \n",
    "________________________"
   ]
  },
  {
   "cell_type": "markdown",
   "metadata": {},
   "source": [
    "При большом числе признаков метрические алгоритмы обычно плохо работают, подробнее: <a href=\"https://en.wikipedia.org/wiki/Curse_of_dimensionality\">проклятие размерности </a>.\n",
    "\n",
    "<!--- shevkunov.ks@phystech.edu -->"
   ]
  }
 ],
 "metadata": {
  "anaconda-cloud": {},
  "kernelspec": {
   "display_name": "Python 3",
   "language": "python",
   "name": "python3"
  },
  "language_info": {
   "codemirror_mode": {
    "name": "ipython",
    "version": 3
   },
   "file_extension": ".py",
   "mimetype": "text/x-python",
   "name": "python",
   "nbconvert_exporter": "python",
   "pygments_lexer": "ipython3",
   "version": "3.6.4"
  }
 },
 "nbformat": 4,
 "nbformat_minor": 2
}
